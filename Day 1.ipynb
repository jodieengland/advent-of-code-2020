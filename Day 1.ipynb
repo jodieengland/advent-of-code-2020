{
 "cells": [
  {
   "cell_type": "code",
   "execution_count": 1,
   "metadata": {},
   "outputs": [
    {
     "name": "stdout",
     "output_type": "stream",
     "text": [
      "[1788, 1627, 1883, 1828, 1924, 1993, 972, 1840, 1866, 1762, 1781, 1782, 1520, 1971, 1660, 1857, 1867, 1564, 1983, 1391, 2002, 494, 1500, 1967, 1702, 1958, 1886, 1910, 1838, 1985, 1836, 2009, 2005, 1602, 1939, 1945, 1609, 1582, 1647, 1737, 1982, 1931, 790, 745, 1598, 1586, 1547, 1951, 1264, 1382, 1776, 1499, 1977, 1766, 1360, 1807, 1991, 1981, 1693, 634, 1847, 1774, 1990, 1409, 1410, 1974, 1862, 1744, 1827, 1978, 1980, 2003, 1491, 1595, 1640, 1576, 1887, 1746, 1617, 1923, 1706, 1964, 60, 1620, 1959, 257, 1395, 1854, 1843, 1682, 1667, 1639, 279, 1911, 1986, 1575, 1232, 1919, 1852, 1509, 1976, 1465, 2008, 1953, 1518, 1795, 1912, 1269, 1835, 1984, 1538, 2001, 1954, 1365, 1569, 1418, 1844, 1580, 1875, 1551, 1861, 1946, 1810, 1655, 1987, 1549, 1301, 1859, 1929, 1254, 1604, 1933, 1998, 1661, 1899, 1411, 1975, 1707, 1966, 1601, 1936, 1440, 1942, 1937, 1851, 1731, 1257, 1533, 1405, 1890, 1600, 1970, 1626, 1824, 1442, 2006, 1796, 1658, 1930, 646, 1904, 1489, 2004, 1922, 1424, 1802, 1623, 1870, 1242, 1591, 1338, 754, 1826, 1305, 1825, 1793, 1872, 1741, 1979, 107, 1833, 1856, 1952, 1791, 1728, 2010, 1965, 1646, 1522, 1671, 1624, 1876, 1537, 1759, 1962, 1773, 1907, 1573, 1908, 1903]\n"
     ]
    }
   ],
   "source": [
    "#convert input into a list\n",
    "with open(\"input.txt\") as f:\n",
    "    list = [int(x) for x in f.read().split()]\n",
    "    \n",
    "print(list)"
   ]
  },
  {
   "cell_type": "code",
   "execution_count": 2,
   "metadata": {},
   "outputs": [
    {
     "name": "stdout",
     "output_type": "stream",
     "text": [
      "279 1741\n"
     ]
    }
   ],
   "source": [
    "#find the two numbers that add to make 2020\n",
    "target = int(2020) \n",
    "for i in range(len(list)):\n",
    "    sno = target-list[i]\n",
    "    for j in range(i+1, len(list)):\n",
    "        if list[j] == sno:\n",
    "            print(list[i], list[j])\n",
    "            numbers = [list[i], list[j]]"
   ]
  },
  {
   "cell_type": "code",
   "execution_count": 3,
   "metadata": {},
   "outputs": [
    {
     "name": "stdout",
     "output_type": "stream",
     "text": [
      "485739\n"
     ]
    }
   ],
   "source": [
    "#multiply the two numbers\n",
    "import numpy as np\n",
    "result = np.prod(np.array(numbers))  \n",
    "print(result)"
   ]
  },
  {
   "cell_type": "code",
   "execution_count": 5,
   "metadata": {},
   "outputs": [
    {
     "name": "stdout",
     "output_type": "stream",
     "text": [
      "sum([494, 257, 1269])=2020\n",
      "sum([790, 634, 60, 257, 279])=2020\n",
      "sum([60, 257, 279, 1424])=2020\n",
      "sum([279, 1741])=2020\n"
     ]
    }
   ],
   "source": [
    "#find 3 numbers that total 2020\n",
    "def subset_sum(numbers, target, partial=[]):\n",
    "    s = sum(partial)\n",
    "\n",
    "    # check if the partial sum is equals to target\n",
    "    if s == target:\n",
    "        print(\"sum(%s)=%s\" % (partial, target))\n",
    "    if s >= target:\n",
    "        return  # if we reach the number why bother to continue\n",
    "\n",
    "    for i in range(len(numbers)):\n",
    "        n = numbers[i]\n",
    "        remaining = numbers[i + 1:]\n",
    "        subset_sum(remaining, target, partial + [n])\n",
    "\n",
    "\n",
    "if __name__ == \"__main__\":\n",
    "    subset_sum(list, 2020)"
   ]
  },
  {
   "cell_type": "code",
   "execution_count": 6,
   "metadata": {},
   "outputs": [
    {
     "data": {
      "text/plain": [
       "161109702"
      ]
     },
     "execution_count": 6,
     "metadata": {},
     "output_type": "execute_result"
    }
   ],
   "source": [
    "#and then multiply the 3 numbers that are output above!"
   ]
  }
 ],
 "metadata": {
  "kernelspec": {
   "display_name": "Python 3",
   "language": "python",
   "name": "python3"
  },
  "language_info": {
   "codemirror_mode": {
    "name": "ipython",
    "version": 3
   },
   "file_extension": ".py",
   "mimetype": "text/x-python",
   "name": "python",
   "nbconvert_exporter": "python",
   "pygments_lexer": "ipython3",
   "version": "3.8.3"
  }
 },
 "nbformat": 4,
 "nbformat_minor": 4
}

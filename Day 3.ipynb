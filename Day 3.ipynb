{
 "cells": [
  {
   "cell_type": "code",
   "execution_count": 2,
   "metadata": {},
   "outputs": [],
   "source": [
    "from itertools import count\n",
    "\n",
    "file = open(\"input.txt\") #opens the file\n",
    "input = [l.rstrip() for l in file] #strips newline characters (\\n) from each line\n",
    "height, width = len(input), len(input[0]) #defines the height and width (iterative) of the input"
   ]
  },
  {
   "cell_type": "code",
   "execution_count": 6,
   "metadata": {},
   "outputs": [
    {
     "name": "stdout",
     "output_type": "stream",
     "text": [
      "Number of crashes: 230\n"
     ]
    }
   ],
   "source": [
    "trees = 0 #counter to count how many trees we crash into\n",
    "for row, col in zip(range(height), count(0, 3)): #defines the movement as down 1, right 3\n",
    "    if input[row][col % width] == '#': #if the character landed on after counting down 1 and right 3 is a #...\n",
    "        trees += 1 #... add 1 to the counter\n",
    "print('Number of crashes:',trees)"
   ]
  },
  {
   "cell_type": "code",
   "execution_count": 13,
   "metadata": {},
   "outputs": [
    {
     "name": "stdout",
     "output_type": "stream",
     "text": [
      "230\n",
      "9533698720\n"
     ]
    }
   ],
   "source": [
    "#creating a definition that counts crashes\n",
    "def crashes(input, right, down):\n",
    "    width = len(input[0])\n",
    "    height = len(input)\n",
    "    count = 0\n",
    "    y = right\n",
    "    for x in range(down, height, down):\n",
    "        if input[x][y] == '#':\n",
    "            count += 1\n",
    "        y = (y + right) % width\n",
    "    return count\n",
    "print(crashes(input, 3, 1))\n",
    "print(crashes(input, 1, 1) * crashes(input, 3, 1) * crashes(input, 5, 1) * crashes(input, 7, 1) * crashes(input, 1, 2))"
   ]
  }
 ],
 "metadata": {
  "kernelspec": {
   "display_name": "Python 3",
   "language": "python",
   "name": "python3"
  },
  "language_info": {
   "codemirror_mode": {
    "name": "ipython",
    "version": 3
   },
   "file_extension": ".py",
   "mimetype": "text/x-python",
   "name": "python",
   "nbconvert_exporter": "python",
   "pygments_lexer": "ipython3",
   "version": "3.8.3"
  }
 },
 "nbformat": 4,
 "nbformat_minor": 4
}

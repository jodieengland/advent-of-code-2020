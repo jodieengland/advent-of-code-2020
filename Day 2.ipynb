{
 "cells": [
  {
   "cell_type": "code",
   "execution_count": 1,
   "metadata": {},
   "outputs": [],
   "source": [
    "import pandas as pd"
   ]
  },
  {
   "cell_type": "code",
   "execution_count": 8,
   "metadata": {},
   "outputs": [
    {
     "name": "stdout",
     "output_type": "stream",
     "text": [
      "Part 1:  582\n",
      "Part 2:  729\n"
     ]
    }
   ],
   "source": [
    "#importing the input.csv as a table, with passwords as the rows, and the range and letter for each password's policy requirements\n",
    "passwords = pd.read_csv(\"input.csv\",sep=' ',names=('Range', 'Letter'),index_col=2)\n",
    "passwords['Letter'] = passwords['Letter'].str.split(pat=':',expand=True) #removes the colon in the letter column\n",
    "passwords['Range'] = passwords['Range'].str.split(pat='-') #removes the dash between numbers in the range column and makes each entry in the range column a list of min,max values\n",
    "\n",
    "#finding how many passwords are valid\n",
    "counter = 0\n",
    "for p,row in passwords.iterrows(): #for each row in passwords, iterating each row...\n",
    "    letter = row['Letter'] #defines where the letter is in the table by pulling it from the Letter column\n",
    "    Min = int(row['Range'][0]) #defines the min number for the letter as being the first integer in the Range column lists\n",
    "    Max = int(row['Range'][1]) #defines the max number for the letter as being the second integer in the Range column lists\n",
    "    if p.count(letter) >= Min and p.count(letter) <= Max: #if the number of our desired letter in each password is more than or equal to the min range number and less than or equal to the max range number then...\n",
    "        counter+=1 #add 1 to the counter\n",
    "print(\"Part 1: \",counter) #prints the amount of passwords that are valid\n",
    "\n",
    "#finding how many passwords are valid using new criteria\n",
    "counter2 = 0\n",
    "for p,row in passwords.iterrows():\n",
    "    letter = row['Letter']\n",
    "    position1 = int(row['Range'][0])\n",
    "    position2 = int(row['Range'][1])\n",
    "    if p[position1-1] == letter or p[position2-1] == letter: #if the letters at position 1 and position 2 both match the letter required...\n",
    "        if p[position1-1] != p[position2-1]: #and if position 1 and position 2 are not equal to each other...\n",
    "            counter2+=1 #add 1 to the counter\n",
    "print(\"Part 2: \",counter2)"
   ]
  },
  {
   "cell_type": "code",
   "execution_count": null,
   "metadata": {},
   "outputs": [],
   "source": []
  }
 ],
 "metadata": {
  "kernelspec": {
   "display_name": "Python 3",
   "language": "python",
   "name": "python3"
  },
  "language_info": {
   "codemirror_mode": {
    "name": "ipython",
    "version": 3
   },
   "file_extension": ".py",
   "mimetype": "text/x-python",
   "name": "python",
   "nbconvert_exporter": "python",
   "pygments_lexer": "ipython3",
   "version": "3.8.3"
  }
 },
 "nbformat": 4,
 "nbformat_minor": 4
}
